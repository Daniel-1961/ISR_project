{
 "cells": [
  {
   "cell_type": "markdown",
   "id": "adeab5fd",
   "metadata": {},
   "source": [
    "## *Step 1*: **Downloading Text File**\n",
    "    We downloaded 20 books from Gutenberg_books free books in .txt fromat!"
   ]
  },
  {
   "cell_type": "code",
   "execution_count": null,
   "id": "07c8315a",
   "metadata": {},
   "outputs": [],
   "source": [
    "from text_processing import GutenbergDownloader\n",
    "\n",
    "ebook_ids = [\n",
    "    1342, 84, 2701, 11, 98, 345, 1661, 5200, 4300, 1080,\n",
    "    1184, 74, 2542, 408, 174, 16328, 215, 1400, 28054, 23\n",
    "]\n",
    "\n",
    "downloader = GutenbergDownloader(ebook_ids)\n",
    "#downloader.download_all_books()\n"
   ]
  },
  {
   "cell_type": "markdown",
   "id": "e73b5289",
   "metadata": {},
   "source": [
    "# *Step 2*: **Cleaning**\n",
    "  *Removing of markups, punctioution, special symbols and anything except the character itself. Know the document    contains only words!* \n",
    "  "
   ]
  },
  {
   "cell_type": "code",
   "execution_count": null,
   "id": "d3931e4c",
   "metadata": {},
   "outputs": [
    {
     "name": "stdout",
     "output_type": "stream",
     "text": [
      "🧹 Cleaning all downloaded books...\n"
     ]
    },
    {
     "name": "stderr",
     "output_type": "stream",
     "text": [
      "Cleaning books: 100%|██████████| 20/20 [00:05<00:00,  3.67it/s]\n"
     ]
    }
   ],
   "source": [
    "from scripts.text_processing import GutenbergDownloader\n",
    "downloader = GutenbergDownloader(ebook_ids)\n",
    "downloader.clean_all_books()"
   ]
  },
  {
   "cell_type": "markdown",
   "id": "e09b4391",
   "metadata": {},
   "source": [
    "## "
   ]
  },
  {
   "cell_type": "markdown",
   "id": "3e6996d5",
   "metadata": {},
   "source": [
    "## step 3: **Tokenization of the text**\n",
    " *using natural language processing liberary like ntlk tokenized the text*"
   ]
  },
  {
   "cell_type": "code",
   "execution_count": 2,
   "id": "2955e13a",
   "metadata": {},
   "outputs": [
    {
     "name": "stdout",
     "output_type": "stream",
     "text": [
      "🪄 Tokenizing all cleaned books...\n"
     ]
    },
    {
     "name": "stderr",
     "output_type": "stream",
     "text": [
      "Tokenizing books:   0%|          | 0/20 [00:00<?, ?it/s]"
     ]
    },
    {
     "name": "stderr",
     "output_type": "stream",
     "text": [
      "Tokenizing books: 100%|██████████| 20/20 [00:01<00:00, 11.38it/s]\n"
     ]
    }
   ],
   "source": [
    "downloader.tokenize_all_books()"
   ]
  },
  {
   "cell_type": "code",
   "execution_count": 2,
   "id": "96ab8f27",
   "metadata": {},
   "outputs": [
    {
     "name": "stdout",
     "output_type": "stream",
     "text": [
      "📊 Calculating word frequencies for all tokenized books...\n"
     ]
    },
    {
     "name": "stderr",
     "output_type": "stream",
     "text": [
      "Calculating frequencies: 100%|██████████| 20/20 [00:02<00:00,  8.57it/s]\n"
     ]
    }
   ],
   "source": [
    "downloader.calculate_word_frequencies()"
   ]
  },
  {
   "cell_type": "markdown",
   "id": "69bb443d",
   "metadata": {},
   "source": [
    "## **Generated .CSV File**\n",
    " *This made statistical property of words very easy for visualization. One can explore every things from this .csv file about the stastical property of words taken from 20, books!*"
   ]
  },
  {
   "cell_type": "code",
   "execution_count": 3,
   "id": "9e35766f",
   "metadata": {},
   "outputs": [
    {
     "name": "stdout",
     "output_type": "stream",
     "text": [
      "🧮 Calculating word frequencies across all tokenized books...\n"
     ]
    },
    {
     "name": "stderr",
     "output_type": "stream",
     "text": [
      "Reading tokenized books:   0%|          | 0/20 [00:00<?, ?it/s]"
     ]
    },
    {
     "name": "stderr",
     "output_type": "stream",
     "text": [
      "Reading tokenized books: 100%|██████████| 20/20 [00:00<00:00, 41.68it/s]\n"
     ]
    },
    {
     "name": "stdout",
     "output_type": "stream",
     "text": [
      "✅ Word frequencies saved successfully to tokenized_books\\word_frequencies.csv\n"
     ]
    }
   ],
   "source": [
    "downloader.calculate_word_frequencies_csv_file()"
   ]
  },
  {
   "cell_type": "markdown",
   "id": "c652ac89",
   "metadata": {},
   "source": [
    "*we can explore our pandas dataset to have insight about stastical property of words....*"
   ]
  },
  {
   "cell_type": "code",
   "execution_count": 1,
   "id": "d467bf36",
   "metadata": {},
   "outputs": [],
   "source": [
    "#Loading to the pandas dateframe\n",
    "import pandas as pd\n",
    "df=pd.read_csv(\"word_frequencies.csv\")\n"
   ]
  },
  {
   "cell_type": "code",
   "execution_count": 2,
   "id": "8ec4d82c",
   "metadata": {},
   "outputs": [
    {
     "data": {
      "text/html": [
       "<div>\n",
       "<style scoped>\n",
       "    .dataframe tbody tr th:only-of-type {\n",
       "        vertical-align: middle;\n",
       "    }\n",
       "\n",
       "    .dataframe tbody tr th {\n",
       "        vertical-align: top;\n",
       "    }\n",
       "\n",
       "    .dataframe thead th {\n",
       "        text-align: right;\n",
       "    }\n",
       "</style>\n",
       "<table border=\"1\" class=\"dataframe\">\n",
       "  <thead>\n",
       "    <tr style=\"text-align: right;\">\n",
       "      <th></th>\n",
       "      <th>Rank</th>\n",
       "      <th>Word</th>\n",
       "      <th>Frequency</th>\n",
       "    </tr>\n",
       "  </thead>\n",
       "  <tbody>\n",
       "    <tr>\n",
       "      <th>0</th>\n",
       "      <td>1</td>\n",
       "      <td>the</td>\n",
       "      <td>138150</td>\n",
       "    </tr>\n",
       "    <tr>\n",
       "      <th>1</th>\n",
       "      <td>2</td>\n",
       "      <td>and</td>\n",
       "      <td>80971</td>\n",
       "    </tr>\n",
       "    <tr>\n",
       "      <th>2</th>\n",
       "      <td>3</td>\n",
       "      <td>of</td>\n",
       "      <td>69426</td>\n",
       "    </tr>\n",
       "    <tr>\n",
       "      <th>3</th>\n",
       "      <td>4</td>\n",
       "      <td>to</td>\n",
       "      <td>66078</td>\n",
       "    </tr>\n",
       "    <tr>\n",
       "      <th>4</th>\n",
       "      <td>5</td>\n",
       "      <td>a</td>\n",
       "      <td>52706</td>\n",
       "    </tr>\n",
       "    <tr>\n",
       "      <th>5</th>\n",
       "      <td>6</td>\n",
       "      <td>i</td>\n",
       "      <td>49079</td>\n",
       "    </tr>\n",
       "    <tr>\n",
       "      <th>6</th>\n",
       "      <td>7</td>\n",
       "      <td>in</td>\n",
       "      <td>41314</td>\n",
       "    </tr>\n",
       "    <tr>\n",
       "      <th>7</th>\n",
       "      <td>8</td>\n",
       "      <td>he</td>\n",
       "      <td>37523</td>\n",
       "    </tr>\n",
       "    <tr>\n",
       "      <th>8</th>\n",
       "      <td>9</td>\n",
       "      <td>that</td>\n",
       "      <td>35002</td>\n",
       "    </tr>\n",
       "    <tr>\n",
       "      <th>9</th>\n",
       "      <td>10</td>\n",
       "      <td>it</td>\n",
       "      <td>32316</td>\n",
       "    </tr>\n",
       "  </tbody>\n",
       "</table>\n",
       "</div>"
      ],
      "text/plain": [
       "   Rank  Word  Frequency\n",
       "0     1   the     138150\n",
       "1     2   and      80971\n",
       "2     3    of      69426\n",
       "3     4    to      66078\n",
       "4     5     a      52706\n",
       "5     6     i      49079\n",
       "6     7    in      41314\n",
       "7     8    he      37523\n",
       "8     9  that      35002\n",
       "9    10    it      32316"
      ]
     },
     "execution_count": 2,
     "metadata": {},
     "output_type": "execute_result"
    }
   ],
   "source": [
    "df[df['Rank']<11]"
   ]
  },
  {
   "cell_type": "code",
   "execution_count": 7,
   "id": "61ef8a8a",
   "metadata": {},
   "outputs": [
    {
     "data": {
      "text/html": [
       "<div>\n",
       "<style scoped>\n",
       "    .dataframe tbody tr th:only-of-type {\n",
       "        vertical-align: middle;\n",
       "    }\n",
       "\n",
       "    .dataframe tbody tr th {\n",
       "        vertical-align: top;\n",
       "    }\n",
       "\n",
       "    .dataframe thead th {\n",
       "        text-align: right;\n",
       "    }\n",
       "</style>\n",
       "<table border=\"1\" class=\"dataframe\">\n",
       "  <thead>\n",
       "    <tr style=\"text-align: right;\">\n",
       "      <th></th>\n",
       "      <th>Rank</th>\n",
       "      <th>Word</th>\n",
       "      <th>Frequency</th>\n",
       "    </tr>\n",
       "  </thead>\n",
       "  <tbody>\n",
       "    <tr>\n",
       "      <th>0</th>\n",
       "      <td>1</td>\n",
       "      <td>the</td>\n",
       "      <td>138150</td>\n",
       "    </tr>\n",
       "    <tr>\n",
       "      <th>1</th>\n",
       "      <td>2</td>\n",
       "      <td>and</td>\n",
       "      <td>80971</td>\n",
       "    </tr>\n",
       "    <tr>\n",
       "      <th>2</th>\n",
       "      <td>3</td>\n",
       "      <td>of</td>\n",
       "      <td>69426</td>\n",
       "    </tr>\n",
       "    <tr>\n",
       "      <th>3</th>\n",
       "      <td>4</td>\n",
       "      <td>to</td>\n",
       "      <td>66078</td>\n",
       "    </tr>\n",
       "    <tr>\n",
       "      <th>4</th>\n",
       "      <td>5</td>\n",
       "      <td>a</td>\n",
       "      <td>52706</td>\n",
       "    </tr>\n",
       "    <tr>\n",
       "      <th>5</th>\n",
       "      <td>6</td>\n",
       "      <td>i</td>\n",
       "      <td>49079</td>\n",
       "    </tr>\n",
       "    <tr>\n",
       "      <th>6</th>\n",
       "      <td>7</td>\n",
       "      <td>in</td>\n",
       "      <td>41314</td>\n",
       "    </tr>\n",
       "    <tr>\n",
       "      <th>7</th>\n",
       "      <td>8</td>\n",
       "      <td>he</td>\n",
       "      <td>37523</td>\n",
       "    </tr>\n",
       "    <tr>\n",
       "      <th>8</th>\n",
       "      <td>9</td>\n",
       "      <td>that</td>\n",
       "      <td>35002</td>\n",
       "    </tr>\n",
       "    <tr>\n",
       "      <th>9</th>\n",
       "      <td>10</td>\n",
       "      <td>it</td>\n",
       "      <td>32316</td>\n",
       "    </tr>\n",
       "    <tr>\n",
       "      <th>10</th>\n",
       "      <td>11</td>\n",
       "      <td>you</td>\n",
       "      <td>30754</td>\n",
       "    </tr>\n",
       "    <tr>\n",
       "      <th>11</th>\n",
       "      <td>12</td>\n",
       "      <td>was</td>\n",
       "      <td>29651</td>\n",
       "    </tr>\n",
       "    <tr>\n",
       "      <th>12</th>\n",
       "      <td>13</td>\n",
       "      <td>his</td>\n",
       "      <td>28997</td>\n",
       "    </tr>\n",
       "    <tr>\n",
       "      <th>13</th>\n",
       "      <td>14</td>\n",
       "      <td>with</td>\n",
       "      <td>21958</td>\n",
       "    </tr>\n",
       "    <tr>\n",
       "      <th>14</th>\n",
       "      <td>15</td>\n",
       "      <td>for</td>\n",
       "      <td>19896</td>\n",
       "    </tr>\n",
       "    <tr>\n",
       "      <th>15</th>\n",
       "      <td>16</td>\n",
       "      <td>as</td>\n",
       "      <td>18460</td>\n",
       "    </tr>\n",
       "    <tr>\n",
       "      <th>16</th>\n",
       "      <td>17</td>\n",
       "      <td>is</td>\n",
       "      <td>18189</td>\n",
       "    </tr>\n",
       "    <tr>\n",
       "      <th>17</th>\n",
       "      <td>18</td>\n",
       "      <td>had</td>\n",
       "      <td>18080</td>\n",
       "    </tr>\n",
       "    <tr>\n",
       "      <th>18</th>\n",
       "      <td>19</td>\n",
       "      <td>s</td>\n",
       "      <td>17427</td>\n",
       "    </tr>\n",
       "    <tr>\n",
       "      <th>19</th>\n",
       "      <td>20</td>\n",
       "      <td>not</td>\n",
       "      <td>17261</td>\n",
       "    </tr>\n",
       "  </tbody>\n",
       "</table>\n",
       "</div>"
      ],
      "text/plain": [
       "    Rank  Word  Frequency\n",
       "0      1   the     138150\n",
       "1      2   and      80971\n",
       "2      3    of      69426\n",
       "3      4    to      66078\n",
       "4      5     a      52706\n",
       "5      6     i      49079\n",
       "6      7    in      41314\n",
       "7      8    he      37523\n",
       "8      9  that      35002\n",
       "9     10    it      32316\n",
       "10    11   you      30754\n",
       "11    12   was      29651\n",
       "12    13   his      28997\n",
       "13    14  with      21958\n",
       "14    15   for      19896\n",
       "15    16    as      18460\n",
       "16    17    is      18189\n",
       "17    18   had      18080\n",
       "18    19     s      17427\n",
       "19    20   not      17261"
      ]
     },
     "execution_count": 7,
     "metadata": {},
     "output_type": "execute_result"
    }
   ],
   "source": [
    "# exploring few colums of dataframe\n",
    "df.head(20)"
   ]
  },
  {
   "cell_type": "code",
   "execution_count": 5,
   "id": "b0f8ae0f",
   "metadata": {},
   "outputs": [
    {
     "data": {
      "text/html": [
       "<div>\n",
       "<style scoped>\n",
       "    .dataframe tbody tr th:only-of-type {\n",
       "        vertical-align: middle;\n",
       "    }\n",
       "\n",
       "    .dataframe tbody tr th {\n",
       "        vertical-align: top;\n",
       "    }\n",
       "\n",
       "    .dataframe thead th {\n",
       "        text-align: right;\n",
       "    }\n",
       "</style>\n",
       "<table border=\"1\" class=\"dataframe\">\n",
       "  <thead>\n",
       "    <tr style=\"text-align: right;\">\n",
       "      <th></th>\n",
       "      <th>Rank</th>\n",
       "      <th>Word</th>\n",
       "      <th>Frequency</th>\n",
       "    </tr>\n",
       "  </thead>\n",
       "  <tbody>\n",
       "    <tr>\n",
       "      <th>50048</th>\n",
       "      <td>50049</td>\n",
       "      <td>baa</td>\n",
       "      <td>1</td>\n",
       "    </tr>\n",
       "    <tr>\n",
       "      <th>50049</th>\n",
       "      <td>50050</td>\n",
       "      <td>mammon</td>\n",
       "      <td>1</td>\n",
       "    </tr>\n",
       "    <tr>\n",
       "      <th>50050</th>\n",
       "      <td>50051</td>\n",
       "      <td>thieve</td>\n",
       "      <td>1</td>\n",
       "    </tr>\n",
       "    <tr>\n",
       "      <th>50051</th>\n",
       "      <td>50052</td>\n",
       "      <td>ranting</td>\n",
       "      <td>1</td>\n",
       "    </tr>\n",
       "    <tr>\n",
       "      <th>50052</th>\n",
       "      <td>50053</td>\n",
       "      <td>nanny</td>\n",
       "      <td>1</td>\n",
       "    </tr>\n",
       "    <tr>\n",
       "      <th>50053</th>\n",
       "      <td>50054</td>\n",
       "      <td>stinting</td>\n",
       "      <td>1</td>\n",
       "    </tr>\n",
       "    <tr>\n",
       "      <th>50054</th>\n",
       "      <td>50055</td>\n",
       "      <td>maws</td>\n",
       "      <td>1</td>\n",
       "    </tr>\n",
       "    <tr>\n",
       "      <th>50055</th>\n",
       "      <td>50056</td>\n",
       "      <td>flirts</td>\n",
       "      <td>1</td>\n",
       "    </tr>\n",
       "    <tr>\n",
       "      <th>50056</th>\n",
       "      <td>50057</td>\n",
       "      <td>pledging</td>\n",
       "      <td>1</td>\n",
       "    </tr>\n",
       "    <tr>\n",
       "      <th>50057</th>\n",
       "      <td>50058</td>\n",
       "      <td>lynn</td>\n",
       "      <td>1</td>\n",
       "    </tr>\n",
       "  </tbody>\n",
       "</table>\n",
       "</div>"
      ],
      "text/plain": [
       "        Rank      Word  Frequency\n",
       "50048  50049       baa          1\n",
       "50049  50050    mammon          1\n",
       "50050  50051    thieve          1\n",
       "50051  50052   ranting          1\n",
       "50052  50053     nanny          1\n",
       "50053  50054  stinting          1\n",
       "50054  50055      maws          1\n",
       "50055  50056    flirts          1\n",
       "50056  50057  pledging          1\n",
       "50057  50058      lynn          1"
      ]
     },
     "execution_count": 5,
     "metadata": {},
     "output_type": "execute_result"
    }
   ],
   "source": [
    "# exploring the last few words\n",
    "df.tail(10)"
   ]
  },
  {
   "cell_type": "markdown",
   "id": "b3c06ad2",
   "metadata": {},
   "source": [
    "## Final: **Visualization and prove of Zip's Law**"
   ]
  },
  {
   "cell_type": "markdown",
   "id": "b2a08973",
   "metadata": {},
   "source": [
    "*In this graph, we plot word frequency against word rank for the tokenized corpus.*\n",
    "\n",
    "*X-axis: Rank of the word (1 = most frequent word, 2 = second most frequent, etc.)*\n",
    "\n",
    "*Y-axis: Frequency (how many times the word appears)*\n",
    "\n",
    "*According to Zipf's Law:*\n",
    "\n",
    "*In any large natural language corpus, the frequency of a word is inversely proportional to its rank.*\n",
    "\n",
    "# *The word distribution in our dataset follows Zipf's Law!*"
   ]
  },
  {
   "cell_type": "code",
   "execution_count": 2,
   "id": "2e87cde9",
   "metadata": {},
   "outputs": [
    {
     "data": {
      "image/png": "[encoded data removed]",
      "text/plain": [
       "<Figure size 800x400 with 1 Axes>"
      ]
     },
     "metadata": {},
     "output_type": "display_data"
    },
    {
     "name": "stderr",
     "output_type": "stream",
     "text": [
      "c:\\Users\\lenovo\\OneDrive\\Desktop\\class project\\ISR_project-1\\text_processing.py:198: UserWarning: No artists with labels found to put in legend.  Note that artists whose label start with an underscore are ignored when legend() is called with no argument.\n",
      "  ax.legend()\n"
     ]
    },
    {
     "data": {
      "image/png": "[encoded data removed]",
      "text/plain": [
       "<Figure size 800x1000 with 3 Axes>"
      ]
     },
     "metadata": {},
     "output_type": "display_data"
    }
   ],
   "source": [
    "downloader.plot_zipfs_law()"
   ]
  },
  {
   "cell_type": "code",
   "execution_count": null,
   "id": "bce04f41",
   "metadata": {},
   "outputs": [],
   "source": []
  }
 ],
 "metadata": {
  "kernelspec": {
   "display_name": "ISR",
   "language": "python",
   "name": "python3"
  },
  "language_info": {
   "codemirror_mode": {
    "name": "ipython",
    "version": 3
   },
   "file_extension": ".py",
   "mimetype": "text/x-python",
   "name": "python",
   "nbconvert_exporter": "python",
   "pygments_lexer": "ipython3",
   "version": "3.13.0"
  }
 },
 "nbformat": 4,
 "nbformat_minor": 5
}
