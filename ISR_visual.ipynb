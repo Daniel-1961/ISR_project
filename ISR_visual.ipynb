{
 "cells": [
  {
   "cell_type": "markdown",
   "id": "adeab5fd",
   "metadata": {},
   "source": [
    "## Downloading Text File\n",
    "    We downloaded 20 books from Gutenberg_books free books in txt fromat!"
   ]
  },
  {
   "cell_type": "code",
   "execution_count": 1,
   "id": "07c8315a",
   "metadata": {},
   "outputs": [
    {
     "name": "stdout",
     "output_type": "stream",
     "text": [
      "📥 Starting download of 20 books...\n"
     ]
    },
    {
     "name": "stderr",
     "output_type": "stream",
     "text": [
      "Downloading books: 100%|██████████| 20/20 [00:56<00:00,  2.84s/it]\n"
     ]
    }
   ],
   "source": [
    "# notebook cell\n",
    "\n",
    "from text_processing import GutenbergDownloader\n",
    "\n",
    "ebook_ids = [\n",
    "    1342, 84, 2701, 11, 98, 345, 1661, 5200, 4300, 1080,\n",
    "    1184, 74, 2542, 408, 174, 16328, 215, 1400, 28054, 23\n",
    "]\n",
    "\n",
    "downloader = GutenbergDownloader(ebook_ids)\n",
    "downloader.download_all_books()"
   ]
  },
  {
   "cell_type": "code",
   "execution_count": null,
   "id": "ebf54e0d",
   "metadata": {},
   "outputs": [],
   "source": []
  }
 ],
 "metadata": {
  "kernelspec": {
   "display_name": "ISR",
   "language": "python",
   "name": "python3"
  },
  "language_info": {
   "codemirror_mode": {
    "name": "ipython",
    "version": 3
   },
   "file_extension": ".py",
   "mimetype": "text/x-python",
   "name": "python",
   "nbconvert_exporter": "python",
   "pygments_lexer": "ipython3",
   "version": "3.13.0"
  }
 },
 "nbformat": 4,
 "nbformat_minor": 5
}
